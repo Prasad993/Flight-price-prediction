{
 "cells": [
  {
   "cell_type": "code",
   "execution_count": 1,
   "metadata": {},
   "outputs": [],
   "source": [
    "import pandas as pd\n",
    "import requests\n",
    "df = pd.read_csv(\"DDD.csv\")"
   ]
  },
  {
   "cell_type": "code",
   "execution_count": 45,
   "metadata": {},
   "outputs": [],
   "source": [
    "dates=[]\n",
    "for i in range(10,31):\n",
    "    dates.append(\"2021-04-\"+str(i))"
   ]
  },
  {
   "cell_type": "code",
   "execution_count": 2,
   "metadata": {},
   "outputs": [],
   "source": [
    "import pandas as pd\n",
    "import requests\n",
    "df = pd.read_csv(\"DDD.csv\")\n",
    "sdata=[]\n",
    "for i in range(10,31):\n",
    "  url='http://api.travelpayouts.com/v1/prices/calendar?depart_date=2021-04-'+str(i)+'&origin=BOM&destination=DEL&calendar_type=departure_date&token=a8ababf6853666b226e9ccced6867921'\n",
    "  headers = {'x-rapidapi-key': 'a8ababf6853666b226e9ccced6867921'}\n",
    "  response = requests.request(\"GET\", url).json()\n",
    "  sdata.append(response)\n",
    "    "
   ]
  },
  {
   "cell_type": "code",
   "execution_count": 32,
   "metadata": {},
   "outputs": [
    {
     "data": {
      "text/plain": [
       "[{'success': True, 'data': {}, 'error': '', 'currency': 'rub'},\n",
       " {'success': True, 'data': {}, 'error': '', 'currency': 'rub'},\n",
       " {'success': True, 'data': {}, 'error': '', 'currency': 'rub'},\n",
       " {'success': True, 'data': {}, 'error': '', 'currency': 'rub'},\n",
       " {'success': True, 'data': {}, 'error': '', 'currency': 'rub'},\n",
       " {'success': True,\n",
       "  'data': {'2021-04-15': {'origin': 'BOM',\n",
       "    'destination': 'DEL',\n",
       "    'price': 7238,\n",
       "    'transfers': 1,\n",
       "    'airline': 'SG',\n",
       "    'flight_number': 637,\n",
       "    'departure_at': '2021-04-15T17:20:00Z',\n",
       "    'return_at': '2021-04-17T01:05:00Z',\n",
       "    'expires_at': '2021-04-15T17:20:00Z'}},\n",
       "  'error': '',\n",
       "  'currency': 'rub'},\n",
       " {'success': True, 'data': {}, 'error': '', 'currency': 'rub'},\n",
       " {'success': True, 'data': {}, 'error': '', 'currency': 'rub'},\n",
       " {'success': True,\n",
       "  'data': {'2021-04-18': {'origin': 'BOM',\n",
       "    'destination': 'DEL',\n",
       "    'price': 6485,\n",
       "    'transfers': 1,\n",
       "    'airline': 'G8',\n",
       "    'flight_number': 351,\n",
       "    'departure_at': '2021-04-18T05:40:00Z',\n",
       "    'return_at': '2021-04-20T01:40:00Z',\n",
       "    'expires_at': '2021-04-14T17:49:04Z'}},\n",
       "  'error': '',\n",
       "  'currency': 'rub'},\n",
       " {'success': True, 'data': {}, 'error': '', 'currency': 'rub'},\n",
       " {'success': True, 'data': {}, 'error': '', 'currency': 'rub'},\n",
       " {'success': True, 'data': {}, 'error': '', 'currency': 'rub'},\n",
       " {'success': True, 'data': {}, 'error': '', 'currency': 'rub'},\n",
       " {'success': True, 'data': {}, 'error': '', 'currency': 'rub'},\n",
       " {'success': True, 'data': {}, 'error': '', 'currency': 'rub'},\n",
       " {'success': True, 'data': {}, 'error': '', 'currency': 'rub'},\n",
       " {'success': True, 'data': {}, 'error': '', 'currency': 'rub'},\n",
       " {'success': True, 'data': {}, 'error': '', 'currency': 'rub'},\n",
       " {'success': True, 'data': {}, 'error': '', 'currency': 'rub'},\n",
       " {'success': True, 'data': {}, 'error': '', 'currency': 'rub'},\n",
       " {'success': True, 'data': {}, 'error': '', 'currency': 'rub'}]"
      ]
     },
     "execution_count": 32,
     "metadata": {},
     "output_type": "execute_result"
    }
   ],
   "source": [
    "sdata"
   ]
  },
  {
   "cell_type": "code",
   "execution_count": 58,
   "metadata": {},
   "outputs": [],
   "source": [
    "d=[]\n",
    "for i in sdata:\n",
    "    if len(i[\"data\"])>0:\n",
    "        d.append(str(i[\"data\"].keys()))\n",
    "\n",
    "        "
   ]
  },
  {
   "cell_type": "code",
   "execution_count": 59,
   "metadata": {},
   "outputs": [
    {
     "data": {
      "text/plain": [
       "['2021-04-15', '2021-04-18']"
      ]
     },
     "execution_count": 59,
     "metadata": {},
     "output_type": "execute_result"
    }
   ],
   "source": [
    "dd=[x[12:22] for x in d]\n",
    "dd"
   ]
  },
  {
   "cell_type": "code",
   "execution_count": null,
   "metadata": {},
   "outputs": [],
   "source": []
  },
  {
   "cell_type": "code",
   "execution_count": null,
   "metadata": {},
   "outputs": [],
   "source": []
  }
 ],
 "metadata": {
  "kernelspec": {
   "display_name": "Python 3",
   "language": "python",
   "name": "python3"
  },
  "language_info": {
   "codemirror_mode": {
    "name": "ipython",
    "version": 3
   },
   "file_extension": ".py",
   "mimetype": "text/x-python",
   "name": "python",
   "nbconvert_exporter": "python",
   "pygments_lexer": "ipython3",
   "version": "3.8.5"
  }
 },
 "nbformat": 4,
 "nbformat_minor": 4
}
